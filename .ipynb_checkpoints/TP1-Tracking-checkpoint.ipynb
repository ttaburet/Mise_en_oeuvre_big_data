{
 "cells": [
  {
   "cell_type": "code",
   "execution_count": null,
   "id": "49bf7452",
   "metadata": {},
   "outputs": [],
   "source": [
    "import numpy as np\n",
    "import pandas as pd\n",
    "import imageio\n",
    "import matplotlib.pyplot as plt\n",
    "import glob\n",
    "import os\n",
    "\n",
    "from skimage import measure\n",
    "from skimage.io import imsave, imread\n",
    "from skimage.color import rgb2hsv\n",
    "from skimage.filters import threshold_otsu\n",
    "\n",
    "def show_image_contours(image, contours):\n",
    "    plt.figure()\n",
    "    for n, contour in enumerate(contours):\n",
    "        plt.plot(contour[:, 1], contour[:, 0], linewidth=3)\n",
    "    plt.imshow(image, interpolation='nearest', cmap='gray_r')\n",
    "    plt.title('Contours')\n",
    "    plt.axis('off')"
   ]
  },
  {
   "cell_type": "markdown",
   "id": "78c1cb3b",
   "metadata": {},
   "source": [
    "# 1 Vidéo tracking\n",
    "\n",
    "Dans cet exercise on va réaliser du tracking vidéo, l'idée est d'identifier un objet sur une séquence d'images assez courte (environ 15 secondes) et d'obtenir des informations sur la trajectoire de cet objet.\n",
    "\n",
    "Dans un premier temps à partir de la vidéo on va tenter de créer une suite d'images"
   ]
  },
  {
   "cell_type": "code",
   "execution_count": null,
   "id": "e066c0c4",
   "metadata": {},
   "outputs": [],
   "source": [
    "filename = 'data/misc/ball.mp4'\n",
    "vid = imageio.get_reader(filename,  'ffmpeg')\n",
    "nums = [100, 200]\n",
    "for num in nums:\n",
    "    image = vid.get_data(num)\n",
    "    fig = plt.figure()\n",
    "    fig.suptitle('image #{}'.format(num), fontsize=20)\n",
    "    plt.imshow(image[:-10, 15:-15])\n",
    "plt.show()\n"
   ]
  },
  {
   "cell_type": "markdown",
   "id": "4bfb48d1",
   "metadata": {},
   "source": [
    "#### 📝 Q1: En utilisant la fonction makedirs de la librarie 'os' créer un dossier 'out' dans lequel vous enregistrerez les images de la vidéo.\n",
    "\n",
    "#### 📝 Q2: Enregistrez chaque image croppée (__avec les mêmes coordonnées [:-10, 15:-15] que dans la cellule précédente__) dont le nom sera son index dans le dossier 'path_out'.\n",
    "\n",
    "#### 📝 Q3: En utilisant la fonction glob de la librarie 'glob' vérifier le nombre d'images jpg contenues dans le dossier de sortie 'out'."
   ]
  },
  {
   "cell_type": "code",
   "execution_count": null,
   "id": "c046caa6",
   "metadata": {},
   "outputs": [],
   "source": [
    "path_out = 'out'\n",
    "\n",
    "#Q1: Create the output folder to store the frames\n",
    "\"\"\"\"\"\"\n",
    "os.makedirs(path_out, exist_ok=True)\n",
    "\"\"\"\"\"\"\n",
    "for i, frame in enumerate(vid): #For each frame n°i in vid\n",
    "    #Q2: Save frame in output folder\n",
    "    _path = '{}/{}.jpg'.format(path_out, i)\n",
    "    \"\"\"\"\"\"\n",
    "    imsave(_path, frame[:-10, 15:-15])\n",
    "    \"\"\"\"\"\"\n",
    "    \n",
    "#Check the content of the output folder\n",
    "\"\"\"\"\"\"\n",
    "n_images = len(glob.glob('out/*.jpg'))\n",
    "\"\"\"\"\"\"\n",
    "\n",
    "print('Le dossier contient {} images'.format(n_images))"
   ]
  },
  {
   "cell_type": "code",
   "execution_count": null,
   "id": "85d9f29d",
   "metadata": {},
   "outputs": [],
   "source": [
    "path_out = 'out'\n",
    "n_images = len(glob.glob('out/*.jpg'))"
   ]
  },
  {
   "cell_type": "markdown",
   "id": "9e135d21",
   "metadata": {},
   "source": [
    "#### 📝 Q4: Charger img_rgb: la 100ème image du dossier et affichez la.\n",
    "\n",
    "#### 📝 Q5: A l'aide de la fonction 'rgb2hsv' de librairie 'skimage' convertissez l'image RGB dans le domaine HSV et affichez separément les canaux H, S et V.\n",
    "\n",
    "#### 📝 Q6: Que remarquez vous sur le canal dont l'indice est 1."
   ]
  },
  {
   "cell_type": "code",
   "execution_count": null,
   "id": "faba06ac",
   "metadata": {},
   "outputs": [],
   "source": [
    "idx = 100\n",
    "img_rgb = imread('{}/{}.jpg'.format(path_out, idx))\n",
    "\n",
    "plt.imshow(img_rgb)"
   ]
  },
  {
   "cell_type": "code",
   "execution_count": null,
   "id": "93f3ec48",
   "metadata": {},
   "outputs": [],
   "source": [
    "\"\"\"\"\"\"\n",
    "hsv_img = rgb2hsv(img_rgb) #Changement de domaine couleur\n",
    "hue_img = hsv_img[:, :, 0] \n",
    "saturation_img = hsv_img[:, :, 1]\n",
    "value_img = hsv_img[:, :, 2]\n",
    "\"\"\"\"\"\"\n",
    "\n",
    "fig, (ax0, ax1, ax2) = plt.subplots(ncols=3, figsize=(8, 2))\n",
    "\n",
    "ax0.imshow(hue_img, cmap='gray')\n",
    "ax0.set_title(\"Hue channel\")\n",
    "ax0.axis('off')\n",
    "ax1.imshow(saturation_img, cmap='gray')\n",
    "ax1.set_title(\"Saturation channel\")\n",
    "ax1.axis('off')\n",
    "ax2.imshow(value_img, cmap='gray')\n",
    "ax2.set_title(\"Value channel\")\n",
    "ax2.axis('off')\n",
    "\n",
    "fig.tight_layout()"
   ]
  },
  {
   "cell_type": "markdown",
   "id": "04087950",
   "metadata": {},
   "source": [
    "Q7: Que remarquez vous sur le canal dont l'indice est 2.\n",
    "\n",
    "Q8: En utilisant le code suivant, jouez avec la valeur de saturation_threshold pour effectuer une segmentation efficace de l'image, quelle valeure obtenez vous ?"
   ]
  },
  {
   "cell_type": "code",
   "execution_count": null,
   "id": "8d315dd1",
   "metadata": {},
   "outputs": [],
   "source": [
    "\"\"\"\"\"\"\n",
    "saturation_threshold = 0.5\n",
    "\"\"\"\"\"\"\n",
    "binary_img = saturation_img > saturation_threshold\n",
    "\n",
    "fig, (ax0, ax1) = plt.subplots(ncols=2, figsize=(8, 3))\n",
    "\n",
    "ax0.hist(saturation_img.ravel(), 25)\n",
    "ax0.set_yscale('log')\n",
    "ax0.set_title(\"Histogram of the Saturation channel with threshold\")\n",
    "ax0.axvline(x=saturation_threshold, color='r', linestyle='dashed', linewidth=2)\n",
    "ax0.set_xbound(0, 1)\n",
    "ax1.imshow(binary_img)\n",
    "ax1.set_title(\"Saturation-thresholded image\")\n",
    "ax1.axis('off')\n",
    "\n",
    "fig.tight_layout()"
   ]
  },
  {
   "cell_type": "markdown",
   "id": "40937afe",
   "metadata": {},
   "source": [
    "#### 📝 Q9: En utilisant la fonction 'find_contours' de skimage réaliser l'extraction du contour de la balle depuis l'image binarisée avec le paramètre 'level=0.8'.\n",
    "\n",
    "#### 📝 Q10: Avec la fonction 'show_image_contours' affichez le tracer du contour de la balle sur l'image originale.\n",
    "\n",
    "#### 📝 Q11: All right ? Combien de contours contient l'object 'contours' ? Note : bien regarder sur le côté"
   ]
  },
  {
   "cell_type": "code",
   "execution_count": null,
   "id": "a4448c83",
   "metadata": {},
   "outputs": [],
   "source": [
    "from skimage.measure import find_contours\n",
    "\n",
    "\"\"\"\"\"\"\n",
    "contours = find_contours(binary_img, level = 0.8)\n",
    "\"\"\"\"\"\""
   ]
  },
  {
   "cell_type": "code",
   "execution_count": null,
   "id": "342c24d2",
   "metadata": {},
   "outputs": [],
   "source": [
    "\"\"\"\"\"\"\n",
    "show_image_contours(img_rgb, contours)\n",
    "\"\"\"\"\"\"\n",
    "\n",
    "\"\"\"\"\"\"\n",
    "n_contours = len(contours)\n",
    "\"\"\"\"\"\"\n",
    "print('L\\'object contours contient {} contours'.format(n_contours))"
   ]
  },
  {
   "cell_type": "markdown",
   "id": "d06b2298",
   "metadata": {},
   "source": [
    "On va uniquement garder le contours le plus grand si contours en contient plusieurs."
   ]
  },
  {
   "cell_type": "code",
   "execution_count": null,
   "id": "e4668db1",
   "metadata": {},
   "outputs": [],
   "source": [
    "dots_contours = [np.shape(cnt)[0] for cnt in contours]\n",
    "idx = np.argmax(dots_contours)\n",
    "\n",
    "contours = [contours[idx]]\n",
    "print('L\\'object contours contient {} contours'.format(len(contours)))\n",
    "\n",
    "c = contours[0].mean(axis=0)\n",
    "\n",
    "print('Le centre du contour se trouve aux coordonnées [x, y]=[{:.2f}, {:.2f}]'.format(c[0], c[1]))"
   ]
  },
  {
   "cell_type": "markdown",
   "id": "c05c8cbb",
   "metadata": {},
   "source": [
    "#### 📝 Q12: Affichez l'unique contour souhaité."
   ]
  },
  {
   "cell_type": "code",
   "execution_count": null,
   "id": "92b2b818",
   "metadata": {},
   "outputs": [],
   "source": [
    "\"\"\"\"\"\"\n",
    "show_image_contours(img_rgb, contours)\n",
    "\"\"\"\"\"\""
   ]
  },
  {
   "cell_type": "markdown",
   "id": "9ba650bc",
   "metadata": {},
   "source": [
    "Q13: Complétez la fonction suivante pour qu'elle retourne systématiquement le centre de la balle. Vous devriez trouver le même résultat que celui affiché juste avant la Q12."
   ]
  },
  {
   "cell_type": "code",
   "execution_count": null,
   "id": "abbf7959",
   "metadata": {},
   "outputs": [],
   "source": [
    "def getPos(img_rgb):\n",
    "    hsv_img = rgb2hsv(img_rgb)\n",
    "    saturation_img = hsv_img[:, :, 1]\n",
    "    binary_img = saturation_img > 0.5\n",
    "    contours = find_contours(binary_img)\n",
    "    \n",
    "    n_contours = len(contours)\n",
    "    if(n_contours > 1):\n",
    "        dots_contours = [np.shape(cnt)[0] for cnt in contours]\n",
    "        idx = np.argmax(dots_contours)\n",
    "        contours = [contours[idx]]\n",
    "    \n",
    "    if(n_contours > 0):\n",
    "        c = contours[0].mean(axis=0)\n",
    "        return c"
   ]
  },
  {
   "cell_type": "markdown",
   "id": "956144aa",
   "metadata": {},
   "source": [
    "On va calculer les positions de la balle entre la 23ème (inclue) et la 388ème image (inclue)\n",
    "\n",
    "#### 📝 Q14: Dessinez le graphe de la position de la balle."
   ]
  },
  {
   "cell_type": "code",
   "execution_count": null,
   "id": "26b01d30",
   "metadata": {},
   "outputs": [],
   "source": [
    "pos = np.array([getPos(imread('{}/{}.jpg'.format(path_out, i))) for i in range(23, 388+1)])"
   ]
  },
  {
   "cell_type": "code",
   "execution_count": null,
   "id": "6806780e",
   "metadata": {},
   "outputs": [],
   "source": [
    "\"\"\"\"\"\"\n",
    "Y, X = pos.T\n",
    "\"\"\"\"\"\"\n",
    "fig, ax = plt.subplots(1, 1, figsize = (8, 8))\n",
    "ax.plot(X, Y, '-.')\n",
    "ax.invert_yaxis()\n",
    "ax.set_ylabel('Y')\n",
    "ax.set_xlabel('X')\n",
    "ax.set_title('Position')\n",
    "plt.show()"
   ]
  },
  {
   "cell_type": "code",
   "execution_count": null,
   "id": "fb0557f6",
   "metadata": {},
   "outputs": [],
   "source": []
  }
 ],
 "metadata": {
  "kernelspec": {
   "display_name": "Python 3 (ipykernel)",
   "language": "python",
   "name": "python3"
  },
  "language_info": {
   "codemirror_mode": {
    "name": "ipython",
    "version": 3
   },
   "file_extension": ".py",
   "mimetype": "text/x-python",
   "name": "python",
   "nbconvert_exporter": "python",
   "pygments_lexer": "ipython3",
   "version": "3.8.10"
  }
 },
 "nbformat": 4,
 "nbformat_minor": 5
}
